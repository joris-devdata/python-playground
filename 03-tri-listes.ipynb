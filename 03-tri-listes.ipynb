{
 "cells": [
  {
   "cell_type": "markdown",
   "metadata": {},
   "source": [
    "# 3. Tri des listes\n"
   ]
  },
  {
   "cell_type": "code",
   "execution_count": 1,
   "metadata": {},
   "outputs": [
    {
     "name": "stdout",
     "output_type": "stream",
     "text": [
      "13 [5, 4, 8, 5, 8, 10, 1, 3, 6, 6, 2, 3, 9]\n"
     ]
    }
   ],
   "source": [
    "ma_liste = [5, 4, 8, 5, 8, 10, 1, 3, 6, 6, 2, 3, 9]\n",
    "print(len(ma_liste), ma_liste)"
   ]
  },
  {
   "cell_type": "markdown",
   "metadata": {},
   "source": [
    "### Méthode de classe / native ```list.sort```"
   ]
  },
  {
   "cell_type": "code",
   "execution_count": 2,
   "metadata": {},
   "outputs": [
    {
     "name": "stdout",
     "output_type": "stream",
     "text": [
      "Help on method_descriptor:\n",
      "\n",
      "sort(self, /, *, key=None, reverse=False)\n",
      "    Sort the list in ascending order and return None.\n",
      "    \n",
      "    The sort is in-place (i.e. the list itself is modified) and stable (i.e. the\n",
      "    order of two equal elements is maintained).\n",
      "    \n",
      "    If a key function is given, apply it once to each list item and sort them,\n",
      "    ascending or descending, according to their function values.\n",
      "    \n",
      "    The reverse flag can be set to sort in descending order.\n",
      "\n"
     ]
    }
   ],
   "source": [
    "help(list.sort)"
   ]
  },
  {
   "cell_type": "code",
   "execution_count": 3,
   "metadata": {},
   "outputs": [
    {
     "name": "stdout",
     "output_type": "stream",
     "text": [
      "[1, 2, 3, 3, 4, 5, 5, 6, 6, 8, 8, 9, 10]\n"
     ]
    }
   ],
   "source": [
    "ma_liste.sort()\n",
    "print(ma_liste)"
   ]
  },
  {
   "cell_type": "code",
   "execution_count": 4,
   "metadata": {},
   "outputs": [
    {
     "name": "stdout",
     "output_type": "stream",
     "text": [
      "[10, 9, 8, 8, 6, 6, 5, 5, 4, 3, 3, 2, 1]\n"
     ]
    }
   ],
   "source": [
    "ma_liste.sort(reverse=True)\n",
    "print(ma_liste)"
   ]
  },
  {
   "cell_type": "markdown",
   "metadata": {},
   "source": [
    "### Méthode ```sorted```"
   ]
  },
  {
   "cell_type": "code",
   "execution_count": 5,
   "metadata": {},
   "outputs": [
    {
     "name": "stdout",
     "output_type": "stream",
     "text": [
      "Help on built-in function sorted in module builtins:\n",
      "\n",
      "sorted(iterable, /, *, key=None, reverse=False)\n",
      "    Return a new list containing all items from the iterable in ascending order.\n",
      "    \n",
      "    A custom key function can be supplied to customize the sort order, and the\n",
      "    reverse flag can be set to request the result in descending order.\n",
      "\n"
     ]
    }
   ],
   "source": [
    "help(sorted)"
   ]
  },
  {
   "cell_type": "code",
   "execution_count": 6,
   "metadata": {},
   "outputs": [
    {
     "data": {
      "text/plain": [
       "[1, 2, 3, 3, 4, 5, 5, 6, 6, 8, 8, 9, 10]"
      ]
     },
     "execution_count": 6,
     "metadata": {},
     "output_type": "execute_result"
    }
   ],
   "source": [
    "ma_liste = [5, 4, 8, 5, 8, 10, 1, 3, 6, 6, 2, 3, 9]\n",
    "sorted(ma_liste)"
   ]
  },
  {
   "cell_type": "code",
   "execution_count": 7,
   "metadata": {},
   "outputs": [
    {
     "data": {
      "text/plain": [
       "[10, 9, 8, 8, 6, 6, 5, 5, 4, 3, 3, 2, 1]"
      ]
     },
     "execution_count": 7,
     "metadata": {},
     "output_type": "execute_result"
    }
   ],
   "source": [
    "sorted(ma_liste, reverse=True)"
   ]
  },
  {
   "cell_type": "markdown",
   "metadata": {},
   "source": [
    "## Exercices"
   ]
  },
  {
   "cell_type": "code",
   "execution_count": 8,
   "metadata": {},
   "outputs": [],
   "source": [
    "ma_liste = [5, 4, 8, 5, 8, 10, 1, 3, 6, 6, 2, 3, 9]"
   ]
  },
  {
   "cell_type": "code",
   "execution_count": 9,
   "metadata": {},
   "outputs": [],
   "source": [
    "# FYI: Implementation demo flag\n",
    "def calculer_somme(L, demo = False):\n",
    "    somme = 0\n",
    "    for i in range(len(L)):\n",
    "        somme += L[i]\n",
    "        if demo:\n",
    "            print(L[i], somme)\n",
    "    return somme"
   ]
  },
  {
   "cell_type": "code",
   "execution_count": 10,
   "metadata": {},
   "outputs": [
    {
     "data": {
      "text/plain": [
       "70"
      ]
     },
     "execution_count": 10,
     "metadata": {},
     "output_type": "execute_result"
    }
   ],
   "source": [
    "ma_liste = [5, 4, 8, 5, 8, 10, 1, 3, 6, 6, 2, 3, 9]\n",
    "calculer_somme(ma_liste)"
   ]
  },
  {
   "cell_type": "code",
   "execution_count": 11,
   "metadata": {},
   "outputs": [
    {
     "name": "stdout",
     "output_type": "stream",
     "text": [
      "5 5\n",
      "4 9\n",
      "8 17\n",
      "5 22\n",
      "8 30\n",
      "10 40\n",
      "1 41\n",
      "3 44\n",
      "6 50\n",
      "6 56\n",
      "2 58\n",
      "3 61\n",
      "9 70\n"
     ]
    },
    {
     "data": {
      "text/plain": [
       "70"
      ]
     },
     "execution_count": 11,
     "metadata": {},
     "output_type": "execute_result"
    }
   ],
   "source": [
    "ma_liste = [5, 4, 8, 5, 8, 10, 1, 3, 6, 6, 2, 3, 9]\n",
    "calculer_somme(ma_liste, demo = True)"
   ]
  },
  {
   "cell_type": "markdown",
   "metadata": {},
   "source": [
    "### Tri par sélection (min)"
   ]
  },
  {
   "cell_type": "markdown",
   "metadata": {},
   "source": [
    "> **Démo avec jeux de cartes**"
   ]
  },
  {
   "cell_type": "markdown",
   "metadata": {},
   "source": [
    "TO DO: Décrivez l'algorithme de tri par sélection en pseudo-code:  \n",
    "\n",
    "Créer une nouvelle liste qui permettra de récolter les valeurs minimum trouvées à chaque itération dans la liste L.\n",
    "\n",
    "Pour chaque élément de la liste L on utilise la fonction min et on créé une variable vmin.\n",
    "\n",
    "Cette variable vmin est d'abord ajoutée à la nouvelle liste, puis retirée de la liste L pour ne pas réitérer dessus.\n",
    "\n",
    "La boucle doit se poursuivre juqu'à ce qu'il n'y ait plus d'éléments dans la liste L.\n",
    "\n",
    "On utilise return ou print pour éditer la nouvelle liste avec les éléments classés par ordre croissant. \n",
    "  \n",
    "--"
   ]
  },
  {
   "cell_type": "code",
   "execution_count": 12,
   "metadata": {},
   "outputs": [],
   "source": [
    "# Implémentation du tri par sélection (utilisant fonction min())\n",
    "def tri_selection(L, demo = False):\n",
    "    new_L = []\n",
    "        \n",
    "    for e in range(len(L)):\n",
    "        vmin = min(L)\n",
    "        new_L.append(vmin)\n",
    "        L.remove(vmin)\n",
    "        \n",
    "    return(new_L)"
   ]
  },
  {
   "cell_type": "code",
   "execution_count": 13,
   "metadata": {},
   "outputs": [
    {
     "data": {
      "text/plain": [
       "[1, 2, 3, 3, 4, 5, 5, 6, 6, 8, 8, 9, 10]"
      ]
     },
     "execution_count": 13,
     "metadata": {},
     "output_type": "execute_result"
    }
   ],
   "source": [
    "ma_liste = [5, 4, 8, 5, 8, 10, 1, 3, 6, 6, 2, 3, 9]\n",
    "tri_selection(ma_liste, True)"
   ]
  },
  {
   "cell_type": "code",
   "execution_count": 14,
   "metadata": {},
   "outputs": [
    {
     "data": {
      "text/plain": [
       "[]"
      ]
     },
     "execution_count": 14,
     "metadata": {},
     "output_type": "execute_result"
    }
   ],
   "source": [
    "ma_liste"
   ]
  },
  {
   "cell_type": "code",
   "execution_count": 15,
   "metadata": {},
   "outputs": [],
   "source": [
    "# Implémentation du tri par sélection (avec ré-implémentation d'une fonction min personnelle)\n",
    "def tri_selection_complet(L, demo = False):\n",
    "    new_L = []\n",
    "      \n",
    "    \n",
    "    for j in range(len(L)):\n",
    "        vmin = L[0]\n",
    "        for i in L:\n",
    "            if i < vmin:\n",
    "                vmin = i\n",
    "        new_L.append(vmin)\n",
    "        L.remove(vmin)\n",
    "        \n",
    "    return(new_L)"
   ]
  },
  {
   "cell_type": "code",
   "execution_count": 16,
   "metadata": {},
   "outputs": [
    {
     "data": {
      "text/plain": [
       "[1, 2, 3, 3, 4, 5, 5, 6, 6, 8, 8, 9, 10]"
      ]
     },
     "execution_count": 16,
     "metadata": {},
     "output_type": "execute_result"
    }
   ],
   "source": [
    "ma_liste = [5, 4, 8, 5, 8, 10, 1, 3, 6, 6, 2, 3, 9]\n",
    "tri_selection_complet(ma_liste, True)"
   ]
  },
  {
   "cell_type": "code",
   "execution_count": 17,
   "metadata": {},
   "outputs": [],
   "source": [
    "def tri_selection_complet(L, demo = False):\n",
    "    S = []\n",
    "    compteur = 0\n",
    "    if demo:\n",
    "        print(\"{:3d}: {}\".format(compteur, L))\n",
    "    \n",
    "    while len(L) > 0:\n",
    "        \n",
    "        emin = L[0]\n",
    "        for e in L:\n",
    "            compteur += 1\n",
    "            if e < emin:\n",
    "                emin = e\n",
    "        \n",
    "        S.append(emin)\n",
    "        L.remove(emin)\n",
    "        \n",
    "        if demo:\n",
    "            print(f\"{compteur:3d}: {S}\")\n",
    "    return S"
   ]
  },
  {
   "cell_type": "code",
   "execution_count": 18,
   "metadata": {},
   "outputs": [
    {
     "name": "stdout",
     "output_type": "stream",
     "text": [
      "  0: [5, 4, 8, 5, 8, 10, 1, 3, 6, 6, 2, 3, 9]\n",
      " 13: [1]\n",
      " 25: [1, 2]\n",
      " 36: [1, 2, 3]\n",
      " 46: [1, 2, 3, 3]\n",
      " 55: [1, 2, 3, 3, 4]\n",
      " 63: [1, 2, 3, 3, 4, 5]\n",
      " 70: [1, 2, 3, 3, 4, 5, 5]\n",
      " 76: [1, 2, 3, 3, 4, 5, 5, 6]\n",
      " 81: [1, 2, 3, 3, 4, 5, 5, 6, 6]\n",
      " 85: [1, 2, 3, 3, 4, 5, 5, 6, 6, 8]\n",
      " 88: [1, 2, 3, 3, 4, 5, 5, 6, 6, 8, 8]\n",
      " 90: [1, 2, 3, 3, 4, 5, 5, 6, 6, 8, 8, 9]\n",
      " 91: [1, 2, 3, 3, 4, 5, 5, 6, 6, 8, 8, 9, 10]\n"
     ]
    },
    {
     "data": {
      "text/plain": [
       "[1, 2, 3, 3, 4, 5, 5, 6, 6, 8, 8, 9, 10]"
      ]
     },
     "execution_count": 18,
     "metadata": {},
     "output_type": "execute_result"
    }
   ],
   "source": [
    "ma_liste = [5, 4, 8, 5, 8, 10, 1, 3, 6, 6, 2, 3, 9]\n",
    "tri_selection_complet(ma_liste, True)"
   ]
  },
  {
   "cell_type": "markdown",
   "metadata": {},
   "source": [
    "---"
   ]
  },
  {
   "cell_type": "markdown",
   "metadata": {},
   "source": [
    "### Tri à bulles (ou tri par propagation)"
   ]
  },
  {
   "cell_type": "markdown",
   "metadata": {},
   "source": [
    "> **Démo avec jeux de cartes**"
   ]
  },
  {
   "cell_type": "markdown",
   "metadata": {},
   "source": [
    "Autre illustration (Source: [wikipedia](https://en.wikipedia.org/wiki/Bubble_sort))  "
   ]
  },
  {
   "cell_type": "markdown",
   "metadata": {},
   "source": [
    "![Tri à Bulles](./img/bubble-sort.gif)  \n"
   ]
  },
  {
   "cell_type": "markdown",
   "metadata": {},
   "source": [
    "TO DO: Décrivez l'algorithme du tri à bulles en pseudo-code:  \n",
    "\n",
    "On compare 2 à 2 les éléments de la liste;\n",
    "\n",
    "On commence par comparer le 1er élément avec le 2nd\n",
    "\n",
    "Si le 1er élément est strictement supérieur au 2ème, alors on les intervertit.\n",
    "\n",
    "ensuite, on compare le 2ème élément avec le 3ème, et on répète l'opération jusqu'à pousser à la fin de la liste, la variable la plus grande.\n",
    "\n",
    "On recommence le tri depuis le 1er index en excluant le dernier index trié et ce jusqu'à la fin de la liste.\n",
    "  \n",
    "  \n",
    "--"
   ]
  },
  {
   "cell_type": "code",
   "execution_count": 19,
   "metadata": {},
   "outputs": [],
   "source": [
    "# Implémentation\n",
    "\n",
    "def tri_bulles(L, demo = False):\n",
    "    for i in range(len(L)):\n",
    "        for j in range(len(L)-1):\n",
    "            if L[i] < L[j]:\n",
    "                L[i], L[j] = L[j], L[i]\n",
    "    return L"
   ]
  },
  {
   "cell_type": "code",
   "execution_count": 20,
   "metadata": {},
   "outputs": [
    {
     "data": {
      "text/plain": [
       "[1, 2, 3, 3, 4, 5, 5, 6, 6, 8, 8, 9, 10]"
      ]
     },
     "execution_count": 20,
     "metadata": {},
     "output_type": "execute_result"
    }
   ],
   "source": [
    "ma_liste = [5, 4, 8, 5, 8, 10, 1, 3, 6, 6, 2, 3, 9]\n",
    "tri_bulles(ma_liste, demo = True)"
   ]
  },
  {
   "cell_type": "code",
   "execution_count": 21,
   "metadata": {},
   "outputs": [
    {
     "name": "stdout",
     "output_type": "stream",
     "text": [
      "10 [10, 9, 8, 7, 6, 5, 4, 3, 2, 1]\n"
     ]
    }
   ],
   "source": [
    "pire_cas = [i for i in range(10, 0, -1)]\n",
    "print(len(pire_cas), pire_cas)"
   ]
  },
  {
   "cell_type": "code",
   "execution_count": 22,
   "metadata": {},
   "outputs": [
    {
     "data": {
      "text/plain": [
       "[1, 2, 3, 4, 5, 6, 7, 8, 9, 10]"
      ]
     },
     "execution_count": 22,
     "metadata": {},
     "output_type": "execute_result"
    }
   ],
   "source": [
    "tri_bulles(pire_cas, True)"
   ]
  },
  {
   "cell_type": "code",
   "execution_count": 23,
   "metadata": {},
   "outputs": [
    {
     "data": {
      "text/plain": [
       "45"
      ]
     },
     "execution_count": 23,
     "metadata": {},
     "output_type": "execute_result"
    }
   ],
   "source": [
    "# Le nb d'itérations dans ce cas est: n * (n + 1) / 2)\n",
    "9 + 8 + 7 + 6 + 5 + 4 + 3 + 2 + 1"
   ]
  },
  {
   "cell_type": "code",
   "execution_count": 24,
   "metadata": {},
   "outputs": [
    {
     "data": {
      "text/plain": [
       "45"
      ]
     },
     "execution_count": 24,
     "metadata": {},
     "output_type": "execute_result"
    }
   ],
   "source": [
    "# Ce qui est égal à n * (n + 1) / 2  avec n = 9\n",
    "9 * 10 // 2"
   ]
  },
  {
   "cell_type": "code",
   "execution_count": null,
   "metadata": {},
   "outputs": [],
   "source": [
    "# Implémentation algo tri à bulles wikipedia fr\n",
    "# avec mode demo possible\n",
    "#\n",
    "def tri_bulles(L, demo = False):\n",
    "    n = len(L)\n",
    "    \n",
    "    compteur = 0\n",
    "    if demo:\n",
    "        print(\"{:3d}: {}\".format(compteur, L))\n",
    "    \n",
    "    # Traverser tous les éléments du tableau\n",
    "    nswap = 0\n",
    "    for i in range(n, 1, -1):\n",
    "        if demo:\n",
    "            print(\"Passe sur\", i, \"cartes ( de 0 à\", i - 1, \")\")\n",
    "        for j in range(0, i-1):\n",
    "            compteur += 1\n",
    "            # échanger si l'élément trouvé est plus grand que le suivant\n",
    "            if L[j] > L[j+1] :\n",
    "                nswap += 1\n",
    "                L[j], L[j+1] = L[j+1], L[j]\n",
    "            if demo:\n",
    "                print(f\"{compteur:3d}: {L[:i]} / {L[i:]}\")\n",
    "    if demo:\n",
    "        print(\"nswap =\", nswap)\n",
    "    return L"
   ]
  },
  {
   "cell_type": "code",
   "execution_count": 25,
   "metadata": {},
   "outputs": [
    {
     "name": "stdout",
     "output_type": "stream",
     "text": [
      "10 [1, 2, 3, 4, 5, 6, 7, 8, 9, 10]\n"
     ]
    }
   ],
   "source": [
    "meilleur_cas = [i for i in range(1,11)]\n",
    "print(len(pire_cas), meilleur_cas)"
   ]
  },
  {
   "cell_type": "code",
   "execution_count": 26,
   "metadata": {},
   "outputs": [
    {
     "data": {
      "text/plain": [
       "[1, 2, 3, 4, 5, 6, 7, 8, 9, 10]"
      ]
     },
     "execution_count": 26,
     "metadata": {},
     "output_type": "execute_result"
    }
   ],
   "source": [
    "tri_bulles(pire_cas, True)"
   ]
  },
  {
   "cell_type": "markdown",
   "metadata": {},
   "source": [
    "---\n",
    "## Application à une liste de chaînes de caractère"
   ]
  },
  {
   "cell_type": "markdown",
   "metadata": {},
   "source": [
    "**Rappel: Comparaison de chaînes de caractères**"
   ]
  },
  {
   "cell_type": "code",
   "execution_count": null,
   "metadata": {},
   "outputs": [],
   "source": [
    "\"Abc\" > \"cdf\""
   ]
  },
  {
   "cell_type": "code",
   "execution_count": null,
   "metadata": {},
   "outputs": [],
   "source": [
    "\"A\" > \"a\""
   ]
  },
  {
   "cell_type": "code",
   "execution_count": null,
   "metadata": {},
   "outputs": [],
   "source": [
    "\"Vincent\" > \"Christophe\""
   ]
  },
  {
   "cell_type": "code",
   "execution_count": null,
   "metadata": {},
   "outputs": [],
   "source": [
    "\"Vincent\" > \"christophe\""
   ]
  },
  {
   "cell_type": "code",
   "execution_count": 28,
   "metadata": {},
   "outputs": [],
   "source": [
    "promo = ['Théo', 'Philippe', 'Lamia', 'Marvin', \n",
    "         'Maëlle', 'Yoann', 'Jonathan', 'Corentin', \n",
    "         'Joris', 'Matthias', 'Alicia', 'Izak', \n",
    "         'Mayel', 'Corentin', 'Jordan', 'Abire' \n",
    "]"
   ]
  },
  {
   "cell_type": "code",
   "execution_count": 29,
   "metadata": {},
   "outputs": [
    {
     "data": {
      "text/plain": [
       "['Abire',\n",
       " 'Alicia',\n",
       " 'Corentin',\n",
       " 'Corentin',\n",
       " 'Izak',\n",
       " 'Jonathan',\n",
       " 'Jordan',\n",
       " 'Joris',\n",
       " 'Lamia',\n",
       " 'Marvin',\n",
       " 'Matthias',\n",
       " 'Mayel',\n",
       " 'Maëlle',\n",
       " 'Philippe',\n",
       " 'Théo',\n",
       " 'Yoann']"
      ]
     },
     "execution_count": 29,
     "metadata": {},
     "output_type": "execute_result"
    }
   ],
   "source": [
    "sorted(promo)"
   ]
  },
  {
   "cell_type": "code",
   "execution_count": null,
   "metadata": {},
   "outputs": [],
   "source": [
    "tri_bulles(promo, True)\n",
    "def tri_bulles(L, demo = False):\n",
    "    for i in range(len(L)):\n",
    "        for j in range(len(L)-1):\n",
    "            if L[i] > L[j]:\n",
    "                L[i], L[j+1] = L[j+1], L[j]\n",
    "    return L"
   ]
  },
  {
   "cell_type": "code",
   "execution_count": null,
   "metadata": {},
   "outputs": [],
   "source": []
  },
  {
   "cell_type": "markdown",
   "metadata": {},
   "source": [
    "---\n",
    "## Pour aller plus loin\n",
    "\n",
    "Voir \n",
    "- [Complexité algorithmique en temps](https://fr.wikipedia.org/wiki/Complexit%C3%A9_en_temps)\n",
    "- [Algorithme de tri sur Wikipedia](https://fr.wikipedia.org/wiki/Algorithme_de_tri)"
   ]
  },
  {
   "cell_type": "code",
   "execution_count": null,
   "metadata": {},
   "outputs": [],
   "source": []
  },
  {
   "cell_type": "markdown",
   "metadata": {},
   "source": [
    "### Tri à bulles optimisé\n",
    "TO DO: Imaginer ou rechercher sur internet une possibilité d'améliorer le tri à bulles"
   ]
  },
  {
   "cell_type": "code",
   "execution_count": null,
   "metadata": {},
   "outputs": [],
   "source": [
    "def tri_bulles_optimise(L):\n",
    "    pass"
   ]
  },
  {
   "cell_type": "code",
   "execution_count": null,
   "metadata": {},
   "outputs": [],
   "source": [
    "ma_liste = [5, 4, 8, 5, 8, 10, 1, 3, 6, 6, 2, 3, 9]\n",
    "tri_bulles_optimise(ma_liste)"
   ]
  },
  {
   "cell_type": "code",
   "execution_count": null,
   "metadata": {},
   "outputs": [],
   "source": []
  },
  {
   "cell_type": "markdown",
   "metadata": {},
   "source": [
    "### Tri fusion (merge sort)"
   ]
  },
  {
   "cell_type": "code",
   "execution_count": null,
   "metadata": {},
   "outputs": [],
   "source": [
    "def tri_fusion(L):\n",
    "    pass"
   ]
  },
  {
   "cell_type": "code",
   "execution_count": null,
   "metadata": {},
   "outputs": [],
   "source": [
    "ma_liste = [5, 4, 8, 5, 8, 10, 1, 3, 6, 6, 2, 3, 9]\n",
    "tri_fusion(ma_liste)"
   ]
  }
 ],
 "metadata": {
  "kernelspec": {
   "display_name": "Python 3",
   "language": "python",
   "name": "python3"
  },
  "language_info": {
   "codemirror_mode": {
    "name": "ipython",
    "version": 3
   },
   "file_extension": ".py",
   "mimetype": "text/x-python",
   "name": "python",
   "nbconvert_exporter": "python",
   "pygments_lexer": "ipython3",
   "version": "3.8.6"
  }
 },
 "nbformat": 4,
 "nbformat_minor": 4
}
